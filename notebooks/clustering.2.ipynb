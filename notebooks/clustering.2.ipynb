{
 "cells": [
  {
   "cell_type": "code",
   "execution_count": 1,
   "metadata": {},
   "outputs": [],
   "source": [
    "# configure udtk as parent folder\n",
    "import os,sys,inspect\n",
    "current_dir = os.path.dirname(os.path.abspath(inspect.getfile(inspect.currentframe())))\n",
    "parent_dir = os.path.dirname(current_dir)\n",
    "sys.path.insert(0, parent_dir)"
   ]
  },
  {
   "cell_type": "code",
   "execution_count": 2,
   "metadata": {},
   "outputs": [
    {
     "name": "stderr",
     "output_type": "stream",
     "text": [
      "/home/federico/anaconda3/envs/udtk/lib/python3.6/site-packages/pysal/explore/segregation/network/network.py:16: UserWarning: You need pandana and urbanaccess to work with segregation's network module\n",
      "You can install them with  `pip install urbanaccess pandana` or `conda install -c udst pandana urbanaccess`\n",
      "  \"You need pandana and urbanaccess to work with segregation's network module\\n\"\n",
      "/home/federico/anaconda3/envs/udtk/lib/python3.6/site-packages/pysal/model/spvcm/abstracts.py:10: UserWarning: The `dill` module is required to use the sqlite backend fully.\n",
      "  from .sqlite import head_to_sql, start_sql\n"
     ]
    }
   ],
   "source": [
    "from udtk import clustering, viz\n",
    "import geopandas as gpd\n",
    "from matplotlib.colors import ListedColormap\n",
    "%matplotlib inline"
   ]
  },
  {
   "cell_type": "code",
   "execution_count": 3,
   "metadata": {},
   "outputs": [
    {
     "data": {
      "text/html": [
       "<div>\n",
       "<style scoped>\n",
       "    .dataframe tbody tr th:only-of-type {\n",
       "        vertical-align: middle;\n",
       "    }\n",
       "\n",
       "    .dataframe tbody tr th {\n",
       "        vertical-align: top;\n",
       "    }\n",
       "\n",
       "    .dataframe thead th {\n",
       "        text-align: right;\n",
       "    }\n",
       "</style>\n",
       "<table border=\"1\" class=\"dataframe\">\n",
       "  <thead>\n",
       "    <tr style=\"text-align: right;\">\n",
       "      <th></th>\n",
       "      <th>h3_res_8</th>\n",
       "      <th>RetailArea</th>\n",
       "      <th>NumBldgs</th>\n",
       "      <th>geometry</th>\n",
       "    </tr>\n",
       "  </thead>\n",
       "  <tbody>\n",
       "    <tr>\n",
       "      <td>0</td>\n",
       "      <td>882a10085bfffff</td>\n",
       "      <td>0.000000</td>\n",
       "      <td>0</td>\n",
       "      <td>POLYGON ((-73.94913 40.85585, -73.95552 40.854...</td>\n",
       "    </tr>\n",
       "    <tr>\n",
       "      <td>1</td>\n",
       "      <td>882a100881fffff</td>\n",
       "      <td>1264.331034</td>\n",
       "      <td>326</td>\n",
       "      <td>POLYGON ((-73.97278 40.80229, -73.97917 40.801...</td>\n",
       "    </tr>\n",
       "    <tr>\n",
       "      <td>2</td>\n",
       "      <td>882a100883fffff</td>\n",
       "      <td>895.141372</td>\n",
       "      <td>1040</td>\n",
       "      <td>POLYGON ((-73.97033 40.79441, -73.97672 40.793...</td>\n",
       "    </tr>\n",
       "    <tr>\n",
       "      <td>3</td>\n",
       "      <td>882a100887fffff</td>\n",
       "      <td>4.411765</td>\n",
       "      <td>106</td>\n",
       "      <td>POLYGON ((-73.98114 40.79677, -73.98752 40.795...</td>\n",
       "    </tr>\n",
       "    <tr>\n",
       "      <td>4</td>\n",
       "      <td>882a100889fffff</td>\n",
       "      <td>998.530957</td>\n",
       "      <td>570</td>\n",
       "      <td>POLYGON ((-73.96443 40.80780, -73.97081 40.806...</td>\n",
       "    </tr>\n",
       "  </tbody>\n",
       "</table>\n",
       "</div>"
      ],
      "text/plain": [
       "          h3_res_8   RetailArea  NumBldgs  \\\n",
       "0  882a10085bfffff     0.000000         0   \n",
       "1  882a100881fffff  1264.331034       326   \n",
       "2  882a100883fffff   895.141372      1040   \n",
       "3  882a100887fffff     4.411765       106   \n",
       "4  882a100889fffff   998.530957       570   \n",
       "\n",
       "                                            geometry  \n",
       "0  POLYGON ((-73.94913 40.85585, -73.95552 40.854...  \n",
       "1  POLYGON ((-73.97278 40.80229, -73.97917 40.801...  \n",
       "2  POLYGON ((-73.97033 40.79441, -73.97672 40.793...  \n",
       "3  POLYGON ((-73.98114 40.79677, -73.98752 40.795...  \n",
       "4  POLYGON ((-73.96443 40.80780, -73.97081 40.806...  "
      ]
     },
     "execution_count": 3,
     "metadata": {},
     "output_type": "execute_result"
    }
   ],
   "source": [
    "df = gpd.read_file('../carto/h3_aggregated_8.geojson')\n",
    "df.head()"
   ]
  },
  {
   "cell_type": "code",
   "execution_count": 4,
   "metadata": {},
   "outputs": [],
   "source": [
    "w = clustering.read_w_from_pickle('../data/w.pickle')"
   ]
  },
  {
   "cell_type": "code",
   "execution_count": 5,
   "metadata": {},
   "outputs": [
    {
     "name": "stdout",
     "output_type": "stream",
     "text": [
      "('WARNING: ', '882a1072b9fffff', ' is an island (no neighbors)')\n"
     ]
    }
   ],
   "source": [
    "gdf = clustering.get_lisa(df, 'RetailArea', w)"
   ]
  },
  {
   "cell_type": "code",
   "execution_count": 6,
   "metadata": {},
   "outputs": [
    {
     "data": {
      "text/html": [
       "<div>\n",
       "<style scoped>\n",
       "    .dataframe tbody tr th:only-of-type {\n",
       "        vertical-align: middle;\n",
       "    }\n",
       "\n",
       "    .dataframe tbody tr th {\n",
       "        vertical-align: top;\n",
       "    }\n",
       "\n",
       "    .dataframe thead th {\n",
       "        text-align: right;\n",
       "    }\n",
       "</style>\n",
       "<table border=\"1\" class=\"dataframe\">\n",
       "  <thead>\n",
       "    <tr style=\"text-align: right;\">\n",
       "      <th></th>\n",
       "      <th>h3_res_8</th>\n",
       "      <th>RetailArea</th>\n",
       "      <th>NumBldgs</th>\n",
       "      <th>geometry</th>\n",
       "      <th>lisa_cluster</th>\n",
       "    </tr>\n",
       "  </thead>\n",
       "  <tbody>\n",
       "    <tr>\n",
       "      <td>0</td>\n",
       "      <td>882a10085bfffff</td>\n",
       "      <td>0.000000</td>\n",
       "      <td>0</td>\n",
       "      <td>POLYGON ((-73.94913 40.85585, -73.95552 40.854...</td>\n",
       "      <td>Non-significant</td>\n",
       "    </tr>\n",
       "    <tr>\n",
       "      <td>1</td>\n",
       "      <td>882a100881fffff</td>\n",
       "      <td>1264.331034</td>\n",
       "      <td>326</td>\n",
       "      <td>POLYGON ((-73.97278 40.80229, -73.97917 40.801...</td>\n",
       "      <td>Non-significant</td>\n",
       "    </tr>\n",
       "    <tr>\n",
       "      <td>2</td>\n",
       "      <td>882a100883fffff</td>\n",
       "      <td>895.141372</td>\n",
       "      <td>1040</td>\n",
       "      <td>POLYGON ((-73.97033 40.79441, -73.97672 40.793...</td>\n",
       "      <td>Non-significant</td>\n",
       "    </tr>\n",
       "    <tr>\n",
       "      <td>3</td>\n",
       "      <td>882a100887fffff</td>\n",
       "      <td>4.411765</td>\n",
       "      <td>106</td>\n",
       "      <td>POLYGON ((-73.98114 40.79677, -73.98752 40.795...</td>\n",
       "      <td>Non-significant</td>\n",
       "    </tr>\n",
       "    <tr>\n",
       "      <td>4</td>\n",
       "      <td>882a100889fffff</td>\n",
       "      <td>998.530957</td>\n",
       "      <td>570</td>\n",
       "      <td>POLYGON ((-73.96443 40.80780, -73.97081 40.806...</td>\n",
       "      <td>Non-significant</td>\n",
       "    </tr>\n",
       "    <tr>\n",
       "      <td>...</td>\n",
       "      <td>...</td>\n",
       "      <td>...</td>\n",
       "      <td>...</td>\n",
       "      <td>...</td>\n",
       "      <td>...</td>\n",
       "    </tr>\n",
       "    <tr>\n",
       "      <td>108</td>\n",
       "      <td>882a1072cbfffff</td>\n",
       "      <td>2239.665154</td>\n",
       "      <td>1195</td>\n",
       "      <td>POLYGON ((-73.98904 40.72516, -73.99541 40.724...</td>\n",
       "      <td>Non-significant</td>\n",
       "    </tr>\n",
       "    <tr>\n",
       "      <td>109</td>\n",
       "      <td>882a1072cdfffff</td>\n",
       "      <td>1188.193370</td>\n",
       "      <td>1448</td>\n",
       "      <td>POLYGON ((-74.00227 40.73538, -74.00865 40.734...</td>\n",
       "      <td>Non-significant</td>\n",
       "    </tr>\n",
       "    <tr>\n",
       "      <td>110</td>\n",
       "      <td>882a1072d5fffff</td>\n",
       "      <td>6036.421687</td>\n",
       "      <td>107</td>\n",
       "      <td>POLYGON ((-73.99493 40.71179, -74.00130 40.710...</td>\n",
       "      <td>Non-significant</td>\n",
       "    </tr>\n",
       "    <tr>\n",
       "      <td>111</td>\n",
       "      <td>882a1072d9fffff</td>\n",
       "      <td>1391.133333</td>\n",
       "      <td>29</td>\n",
       "      <td>POLYGON ((-73.97580 40.71495, -73.98218 40.713...</td>\n",
       "      <td>Non-significant</td>\n",
       "    </tr>\n",
       "    <tr>\n",
       "      <td>112</td>\n",
       "      <td>882a1072ddfffff</td>\n",
       "      <td>1750.764706</td>\n",
       "      <td>546</td>\n",
       "      <td>POLYGON ((-73.98659 40.71730, -73.99296 40.716...</td>\n",
       "      <td>Non-significant</td>\n",
       "    </tr>\n",
       "  </tbody>\n",
       "</table>\n",
       "<p>113 rows × 5 columns</p>\n",
       "</div>"
      ],
      "text/plain": [
       "            h3_res_8   RetailArea  NumBldgs  \\\n",
       "0    882a10085bfffff     0.000000         0   \n",
       "1    882a100881fffff  1264.331034       326   \n",
       "2    882a100883fffff   895.141372      1040   \n",
       "3    882a100887fffff     4.411765       106   \n",
       "4    882a100889fffff   998.530957       570   \n",
       "..               ...          ...       ...   \n",
       "108  882a1072cbfffff  2239.665154      1195   \n",
       "109  882a1072cdfffff  1188.193370      1448   \n",
       "110  882a1072d5fffff  6036.421687       107   \n",
       "111  882a1072d9fffff  1391.133333        29   \n",
       "112  882a1072ddfffff  1750.764706       546   \n",
       "\n",
       "                                              geometry     lisa_cluster  \n",
       "0    POLYGON ((-73.94913 40.85585, -73.95552 40.854...  Non-significant  \n",
       "1    POLYGON ((-73.97278 40.80229, -73.97917 40.801...  Non-significant  \n",
       "2    POLYGON ((-73.97033 40.79441, -73.97672 40.793...  Non-significant  \n",
       "3    POLYGON ((-73.98114 40.79677, -73.98752 40.795...  Non-significant  \n",
       "4    POLYGON ((-73.96443 40.80780, -73.97081 40.806...  Non-significant  \n",
       "..                                                 ...              ...  \n",
       "108  POLYGON ((-73.98904 40.72516, -73.99541 40.724...  Non-significant  \n",
       "109  POLYGON ((-74.00227 40.73538, -74.00865 40.734...  Non-significant  \n",
       "110  POLYGON ((-73.99493 40.71179, -74.00130 40.710...  Non-significant  \n",
       "111  POLYGON ((-73.97580 40.71495, -73.98218 40.713...  Non-significant  \n",
       "112  POLYGON ((-73.98659 40.71730, -73.99296 40.716...  Non-significant  \n",
       "\n",
       "[113 rows x 5 columns]"
      ]
     },
     "execution_count": 6,
     "metadata": {},
     "output_type": "execute_result"
    }
   ],
   "source": [
    "gdf"
   ]
  },
  {
   "cell_type": "code",
   "execution_count": 7,
   "metadata": {},
   "outputs": [],
   "source": [
    "from sklearn.cluster import DBSCAN"
   ]
  },
  {
   "cell_type": "code",
   "execution_count": 8,
   "metadata": {},
   "outputs": [
    {
     "data": {
      "text/plain": [
       "array(['Non-significant', 'LL', 'LH', 'HH', 'HL'], dtype=object)"
      ]
     },
     "execution_count": 8,
     "metadata": {},
     "output_type": "execute_result"
    }
   ],
   "source": [
    "gdf.lisa_cluster.unique()"
   ]
  },
  {
   "cell_type": "code",
   "execution_count": 9,
   "metadata": {},
   "outputs": [
    {
     "data": {
      "text/html": [
       "<div>\n",
       "<style scoped>\n",
       "    .dataframe tbody tr th:only-of-type {\n",
       "        vertical-align: middle;\n",
       "    }\n",
       "\n",
       "    .dataframe tbody tr th {\n",
       "        vertical-align: top;\n",
       "    }\n",
       "\n",
       "    .dataframe thead th {\n",
       "        text-align: right;\n",
       "    }\n",
       "</style>\n",
       "<table border=\"1\" class=\"dataframe\">\n",
       "  <thead>\n",
       "    <tr style=\"text-align: right;\">\n",
       "      <th></th>\n",
       "      <th>h3_res_8</th>\n",
       "      <th>RetailArea</th>\n",
       "      <th>NumBldgs</th>\n",
       "      <th>geometry</th>\n",
       "      <th>lisa_cluster</th>\n",
       "    </tr>\n",
       "  </thead>\n",
       "  <tbody>\n",
       "    <tr>\n",
       "      <td>0</td>\n",
       "      <td>882a10085bfffff</td>\n",
       "      <td>0.000000</td>\n",
       "      <td>0</td>\n",
       "      <td>POLYGON ((-73.94913 40.85585, -73.95552 40.854...</td>\n",
       "      <td>Non-significant</td>\n",
       "    </tr>\n",
       "    <tr>\n",
       "      <td>1</td>\n",
       "      <td>882a100881fffff</td>\n",
       "      <td>1264.331034</td>\n",
       "      <td>326</td>\n",
       "      <td>POLYGON ((-73.97278 40.80229, -73.97917 40.801...</td>\n",
       "      <td>Non-significant</td>\n",
       "    </tr>\n",
       "    <tr>\n",
       "      <td>2</td>\n",
       "      <td>882a100883fffff</td>\n",
       "      <td>895.141372</td>\n",
       "      <td>1040</td>\n",
       "      <td>POLYGON ((-73.97033 40.79441, -73.97672 40.793...</td>\n",
       "      <td>Non-significant</td>\n",
       "    </tr>\n",
       "    <tr>\n",
       "      <td>3</td>\n",
       "      <td>882a100887fffff</td>\n",
       "      <td>4.411765</td>\n",
       "      <td>106</td>\n",
       "      <td>POLYGON ((-73.98114 40.79677, -73.98752 40.795...</td>\n",
       "      <td>Non-significant</td>\n",
       "    </tr>\n",
       "    <tr>\n",
       "      <td>4</td>\n",
       "      <td>882a100889fffff</td>\n",
       "      <td>998.530957</td>\n",
       "      <td>570</td>\n",
       "      <td>POLYGON ((-73.96443 40.80780, -73.97081 40.806...</td>\n",
       "      <td>Non-significant</td>\n",
       "    </tr>\n",
       "  </tbody>\n",
       "</table>\n",
       "</div>"
      ],
      "text/plain": [
       "          h3_res_8   RetailArea  NumBldgs  \\\n",
       "0  882a10085bfffff     0.000000         0   \n",
       "1  882a100881fffff  1264.331034       326   \n",
       "2  882a100883fffff   895.141372      1040   \n",
       "3  882a100887fffff     4.411765       106   \n",
       "4  882a100889fffff   998.530957       570   \n",
       "\n",
       "                                            geometry     lisa_cluster  \n",
       "0  POLYGON ((-73.94913 40.85585, -73.95552 40.854...  Non-significant  \n",
       "1  POLYGON ((-73.97278 40.80229, -73.97917 40.801...  Non-significant  \n",
       "2  POLYGON ((-73.97033 40.79441, -73.97672 40.793...  Non-significant  \n",
       "3  POLYGON ((-73.98114 40.79677, -73.98752 40.795...  Non-significant  \n",
       "4  POLYGON ((-73.96443 40.80780, -73.97081 40.806...  Non-significant  "
      ]
     },
     "execution_count": 9,
     "metadata": {},
     "output_type": "execute_result"
    }
   ],
   "source": [
    "gdf.head()"
   ]
  },
  {
   "cell_type": "code",
   "execution_count": null,
   "metadata": {},
   "outputs": [],
   "source": []
  },
  {
   "cell_type": "code",
   "execution_count": null,
   "metadata": {},
   "outputs": [],
   "source": []
  },
  {
   "cell_type": "code",
   "execution_count": 20,
   "metadata": {},
   "outputs": [],
   "source": [
    "def get_dbscan(gdf, quadrant, distance, nbours):\n",
    "    '''\n",
    "    This function returns the DBSCAN computed cluster label for high-high & low-low \n",
    "    quadrants.\n",
    "    ...\n",
    "    gdf(gdf): geodataframe with a 'lisa_cluster' Series label that indicates the quadrant of each grid.\n",
    "    quadrant(str): name of the lisa quadrant (HH or LL).\n",
    "    distance(float): the amount of kms per radian. Ej:0.5 represents a radius of 500mts.\n",
    "    nbours(int): the amount of neighbours to be computed in min_samples parameter.\n",
    "    '''\n",
    "\n",
    "    # high-high or low-low quadrants\n",
    "    quadrants = gdf.copy().loc[(gdf['lisa_cluster'] == quadrant)]\n",
    "    # gdf coordinates\n",
    "    list_q = list(quadrants.centroid.map(lambda g: [g.x, g.y]))\n",
    "    \n",
    "    kms_per_radian = 6371.0088\n",
    "    eps_val = distance / kms_per_radian\n",
    "    \n",
    "    clustering_quadrant = DBSCAN(eps=eps_val, min_samples=nbours).fit(list_q)\n",
    "    \n",
    "    labels = clustering_quadrant.labels_\n",
    "    \n",
    "    quadrants['k'] = labels\n",
    "    \n",
    "    return quadrants"
   ]
  },
  {
   "cell_type": "code",
   "execution_count": 22,
   "metadata": {},
   "outputs": [
    {
     "data": {
      "image/png": "[encoded data removed]",
      "text/plain": [
       "<Figure size 432x288 with 1 Axes>"
      ]
     },
     "metadata": {
      "needs_background": "light"
     },
     "output_type": "display_data"
    }
   ],
   "source": [
    "get_dbscan(gdf,'HH',100,3).plot(column='k');"
   ]
  },
  {
   "cell_type": "code",
   "execution_count": 32,
   "metadata": {},
   "outputs": [
    {
     "data": {
      "image/png": "[encoded data removed]",
      "text/plain": [
       "<Figure size 432x288 with 1 Axes>"
      ]
     },
     "metadata": {
      "needs_background": "light"
     },
     "output_type": "display_data"
    }
   ],
   "source": [
    "get_dbscan(gdf,'LL',100,3).plot(column='k');"
   ]
  },
  {
   "cell_type": "code",
   "execution_count": 33,
   "metadata": {},
   "outputs": [],
   "source": [
    "hh = get_dbscan(gdf,'HH',100,3)"
   ]
  },
  {
   "cell_type": "code",
   "execution_count": 40,
   "metadata": {},
   "outputs": [],
   "source": [
    "ll = get_dbscan(gdf,'LL',100,3)"
   ]
  },
  {
   "cell_type": "code",
   "execution_count": 56,
   "metadata": {},
   "outputs": [
    {
     "data": {
      "text/plain": [
       "99      42\n",
       "96     147\n",
       "71     355\n",
       "97     358\n",
       "77     473\n",
       "106    590\n",
       "76     647\n",
       "94     854\n",
       "Name: NumBldgs, dtype: int64"
      ]
     },
     "execution_count": 56,
     "metadata": {},
     "output_type": "execute_result"
    }
   ],
   "source": [
    "hh['NumBldgs'].sort_values(ascending=True)"
   ]
  },
  {
   "cell_type": "code",
   "execution_count": 59,
   "metadata": {},
   "outputs": [],
   "source": [
    "hh_values = hh['NumBldgs'].sort_values(ascending=True)"
   ]
  },
  {
   "cell_type": "code",
   "execution_count": 62,
   "metadata": {},
   "outputs": [],
   "source": [
    "hh_order = ['hh_'+str(i) for i in range(len(hh_values))]"
   ]
  },
  {
   "cell_type": "code",
   "execution_count": 67,
   "metadata": {},
   "outputs": [
    {
     "data": {
      "text/plain": [
       "71     hh_2\n",
       "76     hh_6\n",
       "77     hh_4\n",
       "94     hh_7\n",
       "96     hh_1\n",
       "97     hh_3\n",
       "99     hh_0\n",
       "106    hh_5\n",
       "Name: NumBldgs, dtype: object"
      ]
     },
     "execution_count": 67,
     "metadata": {},
     "output_type": "execute_result"
    }
   ],
   "source": [
    "hh['NumBldgs'].map(dict(zip(hh_values,hh_order)))"
   ]
  },
  {
   "cell_type": "code",
   "execution_count": 69,
   "metadata": {},
   "outputs": [],
   "source": [
    "def get_dbscan(gdf, indicator,distance, nbours):\n",
    "    '''\n",
    "    This function returns the DBSCAN computed cluster label for high-high & low-low \n",
    "    quadrants.\n",
    "    ...\n",
    "    gdf(gdf): geodataframe with a 'lisa_cluster' Series label that indicates the quadrant of each grid.\n",
    "    indicator (str): name of the indicator clustering.\n",
    "    distance(float): the amount of kms per radian. Ej:0.5 represents a radius of 500mts.\n",
    "    nbours(int): the amount of neighbours to be computed in min_samples parameter.\n",
    "    '''\n",
    "\n",
    "    # dbscan\n",
    "    kms_per_radian = 6371.0088\n",
    "    eps_val = distance / kms_per_radian\n",
    "    \n",
    "    # high-high \n",
    "    hh = gdf.copy().loc[(gdf['lisa_cluster'] == 'HH')]\n",
    "    hh_coord = list(hh.centroid.map(lambda g: [g.x, g.y]))\n",
    "    clustering_hh = DBSCAN(eps=eps_val, min_samples=nbours).fit(hh_coord)\n",
    "    hh['k'] = clustering_hh.labels_\n",
    "    hh_values = hh[indicator].sort_values(ascending=True)\n",
    "    hh_order = ['hh_'+str(i) for i in range(len(hh_values))]\n",
    "    hh['k_order'] = hh[indicator].map(dict(zip(hh_values,hh_order)))\n",
    "    \n",
    "    # low-low\n",
    "    ll = gdf.copy().loc[(gdf['lisa_cluster'] == 'LL')]\n",
    "    ll_coord = list(hh.centroid.map(lambda g: [g.x, g.y]))\n",
    "    clustering_ll = DBSCAN(eps=eps_val, min_samples=nbours).fit(ll_coord)\n",
    "    ll['k'] = clustering_ll.labels_\n",
    "    ll_values = ll[indicator].sort_values(ascending=True)\n",
    "    ll_order = ['ll_'+str(i) for i in range(len(ll_values))]\n",
    "    ll['k_order'] = ll[indicator].map(dict(zip(ll_values,ll_order)))\n",
    "\n",
    "    quadrants = hh.append(ll)\n",
    "    \n",
    "    return quadrants"
   ]
  },
  {
   "cell_type": "code",
   "execution_count": 70,
   "metadata": {},
   "outputs": [
    {
     "ename": "ValueError",
     "evalue": "Length of values does not match length of index",
     "output_type": "error",
     "traceback": [
      "\u001b[0;31m---------------------------------------------------------------------------\u001b[0m",
      "\u001b[0;31mValueError\u001b[0m                                Traceback (most recent call last)",
      "\u001b[0;32m<ipython-input-70-a9db9b7cc635>\u001b[0m in \u001b[0;36m<module>\u001b[0;34m\u001b[0m\n\u001b[0;32m----> 1\u001b[0;31m \u001b[0mget_dbscan\u001b[0m\u001b[0;34m(\u001b[0m\u001b[0mgdf\u001b[0m\u001b[0;34m,\u001b[0m\u001b[0;34m'NumBldgs'\u001b[0m\u001b[0;34m,\u001b[0m\u001b[0;36m100\u001b[0m\u001b[0;34m,\u001b[0m\u001b[0;36m3\u001b[0m\u001b[0;34m)\u001b[0m\u001b[0;34m\u001b[0m\u001b[0;34m\u001b[0m\u001b[0m\n\u001b[0m",
      "\u001b[0;32m<ipython-input-69-9a24004e4169>\u001b[0m in \u001b[0;36mget_dbscan\u001b[0;34m(gdf, indicator, distance, nbours)\u001b[0m\n\u001b[1;32m     27\u001b[0m     \u001b[0mll_coord\u001b[0m \u001b[0;34m=\u001b[0m \u001b[0mlist\u001b[0m\u001b[0;34m(\u001b[0m\u001b[0mhh\u001b[0m\u001b[0;34m.\u001b[0m\u001b[0mcentroid\u001b[0m\u001b[0;34m.\u001b[0m\u001b[0mmap\u001b[0m\u001b[0;34m(\u001b[0m\u001b[0;32mlambda\u001b[0m \u001b[0mg\u001b[0m\u001b[0;34m:\u001b[0m \u001b[0;34m[\u001b[0m\u001b[0mg\u001b[0m\u001b[0;34m.\u001b[0m\u001b[0mx\u001b[0m\u001b[0;34m,\u001b[0m \u001b[0mg\u001b[0m\u001b[0;34m.\u001b[0m\u001b[0my\u001b[0m\u001b[0;34m]\u001b[0m\u001b[0;34m)\u001b[0m\u001b[0;34m)\u001b[0m\u001b[0;34m\u001b[0m\u001b[0;34m\u001b[0m\u001b[0m\n\u001b[1;32m     28\u001b[0m     \u001b[0mclustering_ll\u001b[0m \u001b[0;34m=\u001b[0m \u001b[0mDBSCAN\u001b[0m\u001b[0;34m(\u001b[0m\u001b[0meps\u001b[0m\u001b[0;34m=\u001b[0m\u001b[0meps_val\u001b[0m\u001b[0;34m,\u001b[0m \u001b[0mmin_samples\u001b[0m\u001b[0;34m=\u001b[0m\u001b[0mnbours\u001b[0m\u001b[0;34m)\u001b[0m\u001b[0;34m.\u001b[0m\u001b[0mfit\u001b[0m\u001b[0;34m(\u001b[0m\u001b[0mll_coord\u001b[0m\u001b[0;34m)\u001b[0m\u001b[0;34m\u001b[0m\u001b[0;34m\u001b[0m\u001b[0m\n\u001b[0;32m---> 29\u001b[0;31m     \u001b[0mll\u001b[0m\u001b[0;34m[\u001b[0m\u001b[0;34m'k'\u001b[0m\u001b[0;34m]\u001b[0m \u001b[0;34m=\u001b[0m \u001b[0mclustering_ll\u001b[0m\u001b[0;34m.\u001b[0m\u001b[0mlabels_\u001b[0m\u001b[0;34m\u001b[0m\u001b[0;34m\u001b[0m\u001b[0m\n\u001b[0m\u001b[1;32m     30\u001b[0m     \u001b[0mll_values\u001b[0m \u001b[0;34m=\u001b[0m \u001b[0mll\u001b[0m\u001b[0;34m[\u001b[0m\u001b[0mindicator\u001b[0m\u001b[0;34m]\u001b[0m\u001b[0;34m.\u001b[0m\u001b[0msort_values\u001b[0m\u001b[0;34m(\u001b[0m\u001b[0mascending\u001b[0m\u001b[0;34m=\u001b[0m\u001b[0;32mTrue\u001b[0m\u001b[0;34m)\u001b[0m\u001b[0;34m\u001b[0m\u001b[0;34m\u001b[0m\u001b[0m\n\u001b[1;32m     31\u001b[0m     \u001b[0mll_order\u001b[0m \u001b[0;34m=\u001b[0m \u001b[0;34m[\u001b[0m\u001b[0;34m'll_'\u001b[0m\u001b[0;34m+\u001b[0m\u001b[0mstr\u001b[0m\u001b[0;34m(\u001b[0m\u001b[0mi\u001b[0m\u001b[0;34m)\u001b[0m \u001b[0;32mfor\u001b[0m \u001b[0mi\u001b[0m \u001b[0;32min\u001b[0m \u001b[0mrange\u001b[0m\u001b[0;34m(\u001b[0m\u001b[0mlen\u001b[0m\u001b[0;34m(\u001b[0m\u001b[0mll_values\u001b[0m\u001b[0;34m)\u001b[0m\u001b[0;34m)\u001b[0m\u001b[0;34m]\u001b[0m\u001b[0;34m\u001b[0m\u001b[0;34m\u001b[0m\u001b[0m\n",
      "\u001b[0;32m~/anaconda3/envs/udtk/lib/python3.6/site-packages/pandas/core/frame.py\u001b[0m in \u001b[0;36m__setitem__\u001b[0;34m(self, key, value)\u001b[0m\n\u001b[1;32m   3470\u001b[0m         \u001b[0;32melse\u001b[0m\u001b[0;34m:\u001b[0m\u001b[0;34m\u001b[0m\u001b[0;34m\u001b[0m\u001b[0m\n\u001b[1;32m   3471\u001b[0m             \u001b[0;31m# set column\u001b[0m\u001b[0;34m\u001b[0m\u001b[0;34m\u001b[0m\u001b[0;34m\u001b[0m\u001b[0m\n\u001b[0;32m-> 3472\u001b[0;31m             \u001b[0mself\u001b[0m\u001b[0;34m.\u001b[0m\u001b[0m_set_item\u001b[0m\u001b[0;34m(\u001b[0m\u001b[0mkey\u001b[0m\u001b[0;34m,\u001b[0m \u001b[0mvalue\u001b[0m\u001b[0;34m)\u001b[0m\u001b[0;34m\u001b[0m\u001b[0;34m\u001b[0m\u001b[0m\n\u001b[0m\u001b[1;32m   3473\u001b[0m \u001b[0;34m\u001b[0m\u001b[0m\n\u001b[1;32m   3474\u001b[0m     \u001b[0;32mdef\u001b[0m \u001b[0m_setitem_slice\u001b[0m\u001b[0;34m(\u001b[0m\u001b[0mself\u001b[0m\u001b[0;34m,\u001b[0m \u001b[0mkey\u001b[0m\u001b[0;34m,\u001b[0m \u001b[0mvalue\u001b[0m\u001b[0;34m)\u001b[0m\u001b[0;34m:\u001b[0m\u001b[0;34m\u001b[0m\u001b[0;34m\u001b[0m\u001b[0m\n",
      "\u001b[0;32m~/anaconda3/envs/udtk/lib/python3.6/site-packages/pandas/core/frame.py\u001b[0m in \u001b[0;36m_set_item\u001b[0;34m(self, key, value)\u001b[0m\n\u001b[1;32m   3547\u001b[0m \u001b[0;34m\u001b[0m\u001b[0m\n\u001b[1;32m   3548\u001b[0m         \u001b[0mself\u001b[0m\u001b[0;34m.\u001b[0m\u001b[0m_ensure_valid_index\u001b[0m\u001b[0;34m(\u001b[0m\u001b[0mvalue\u001b[0m\u001b[0;34m)\u001b[0m\u001b[0;34m\u001b[0m\u001b[0;34m\u001b[0m\u001b[0m\n\u001b[0;32m-> 3549\u001b[0;31m         \u001b[0mvalue\u001b[0m \u001b[0;34m=\u001b[0m \u001b[0mself\u001b[0m\u001b[0;34m.\u001b[0m\u001b[0m_sanitize_column\u001b[0m\u001b[0;34m(\u001b[0m\u001b[0mkey\u001b[0m\u001b[0;34m,\u001b[0m \u001b[0mvalue\u001b[0m\u001b[0;34m)\u001b[0m\u001b[0;34m\u001b[0m\u001b[0;34m\u001b[0m\u001b[0m\n\u001b[0m\u001b[1;32m   3550\u001b[0m         \u001b[0mNDFrame\u001b[0m\u001b[0;34m.\u001b[0m\u001b[0m_set_item\u001b[0m\u001b[0;34m(\u001b[0m\u001b[0mself\u001b[0m\u001b[0;34m,\u001b[0m \u001b[0mkey\u001b[0m\u001b[0;34m,\u001b[0m \u001b[0mvalue\u001b[0m\u001b[0;34m)\u001b[0m\u001b[0;34m\u001b[0m\u001b[0;34m\u001b[0m\u001b[0m\n\u001b[1;32m   3551\u001b[0m \u001b[0;34m\u001b[0m\u001b[0m\n",
      "\u001b[0;32m~/anaconda3/envs/udtk/lib/python3.6/site-packages/pandas/core/frame.py\u001b[0m in \u001b[0;36m_sanitize_column\u001b[0;34m(self, key, value, broadcast)\u001b[0m\n\u001b[1;32m   3732\u001b[0m \u001b[0;34m\u001b[0m\u001b[0m\n\u001b[1;32m   3733\u001b[0m             \u001b[0;31m# turn me into an ndarray\u001b[0m\u001b[0;34m\u001b[0m\u001b[0;34m\u001b[0m\u001b[0;34m\u001b[0m\u001b[0m\n\u001b[0;32m-> 3734\u001b[0;31m             \u001b[0mvalue\u001b[0m \u001b[0;34m=\u001b[0m \u001b[0msanitize_index\u001b[0m\u001b[0;34m(\u001b[0m\u001b[0mvalue\u001b[0m\u001b[0;34m,\u001b[0m \u001b[0mself\u001b[0m\u001b[0;34m.\u001b[0m\u001b[0mindex\u001b[0m\u001b[0;34m,\u001b[0m \u001b[0mcopy\u001b[0m\u001b[0;34m=\u001b[0m\u001b[0;32mFalse\u001b[0m\u001b[0;34m)\u001b[0m\u001b[0;34m\u001b[0m\u001b[0;34m\u001b[0m\u001b[0m\n\u001b[0m\u001b[1;32m   3735\u001b[0m             \u001b[0;32mif\u001b[0m \u001b[0;32mnot\u001b[0m \u001b[0misinstance\u001b[0m\u001b[0;34m(\u001b[0m\u001b[0mvalue\u001b[0m\u001b[0;34m,\u001b[0m \u001b[0;34m(\u001b[0m\u001b[0mnp\u001b[0m\u001b[0;34m.\u001b[0m\u001b[0mndarray\u001b[0m\u001b[0;34m,\u001b[0m \u001b[0mIndex\u001b[0m\u001b[0;34m)\u001b[0m\u001b[0;34m)\u001b[0m\u001b[0;34m:\u001b[0m\u001b[0;34m\u001b[0m\u001b[0;34m\u001b[0m\u001b[0m\n\u001b[1;32m   3736\u001b[0m                 \u001b[0;32mif\u001b[0m \u001b[0misinstance\u001b[0m\u001b[0;34m(\u001b[0m\u001b[0mvalue\u001b[0m\u001b[0;34m,\u001b[0m \u001b[0mlist\u001b[0m\u001b[0;34m)\u001b[0m \u001b[0;32mand\u001b[0m \u001b[0mlen\u001b[0m\u001b[0;34m(\u001b[0m\u001b[0mvalue\u001b[0m\u001b[0;34m)\u001b[0m \u001b[0;34m>\u001b[0m \u001b[0;36m0\u001b[0m\u001b[0;34m:\u001b[0m\u001b[0;34m\u001b[0m\u001b[0;34m\u001b[0m\u001b[0m\n",
      "\u001b[0;32m~/anaconda3/envs/udtk/lib/python3.6/site-packages/pandas/core/internals/construction.py\u001b[0m in \u001b[0;36msanitize_index\u001b[0;34m(data, index, copy)\u001b[0m\n\u001b[1;32m    610\u001b[0m \u001b[0;34m\u001b[0m\u001b[0m\n\u001b[1;32m    611\u001b[0m     \u001b[0;32mif\u001b[0m \u001b[0mlen\u001b[0m\u001b[0;34m(\u001b[0m\u001b[0mdata\u001b[0m\u001b[0;34m)\u001b[0m \u001b[0;34m!=\u001b[0m \u001b[0mlen\u001b[0m\u001b[0;34m(\u001b[0m\u001b[0mindex\u001b[0m\u001b[0;34m)\u001b[0m\u001b[0;34m:\u001b[0m\u001b[0;34m\u001b[0m\u001b[0;34m\u001b[0m\u001b[0m\n\u001b[0;32m--> 612\u001b[0;31m         \u001b[0;32mraise\u001b[0m \u001b[0mValueError\u001b[0m\u001b[0;34m(\u001b[0m\u001b[0;34m\"Length of values does not match length of index\"\u001b[0m\u001b[0;34m)\u001b[0m\u001b[0;34m\u001b[0m\u001b[0;34m\u001b[0m\u001b[0m\n\u001b[0m\u001b[1;32m    613\u001b[0m \u001b[0;34m\u001b[0m\u001b[0m\n\u001b[1;32m    614\u001b[0m     \u001b[0;32mif\u001b[0m \u001b[0misinstance\u001b[0m\u001b[0;34m(\u001b[0m\u001b[0mdata\u001b[0m\u001b[0;34m,\u001b[0m \u001b[0mABCIndexClass\u001b[0m\u001b[0;34m)\u001b[0m \u001b[0;32mand\u001b[0m \u001b[0;32mnot\u001b[0m \u001b[0mcopy\u001b[0m\u001b[0;34m:\u001b[0m\u001b[0;34m\u001b[0m\u001b[0;34m\u001b[0m\u001b[0m\n",
      "\u001b[0;31mValueError\u001b[0m: Length of values does not match length of index"
     ]
    }
   ],
   "source": [
    "get_dbscan(gdf,'NumBldgs',100,3)"
   ]
  },
  {
   "cell_type": "code",
   "execution_count": null,
   "metadata": {},
   "outputs": [],
   "source": []
  },
  {
   "cell_type": "code",
   "execution_count": null,
   "metadata": {},
   "outputs": [],
   "source": []
  },
  {
   "cell_type": "code",
   "execution_count": null,
   "metadata": {},
   "outputs": [],
   "source": [
    "#from udtk.clustering import get_dbscan"
   ]
  },
  {
   "cell_type": "code",
   "execution_count": null,
   "metadata": {},
   "outputs": [],
   "source": [
    "clustering.get_dbscan(gdf)"
   ]
  },
  {
   "cell_type": "code",
   "execution_count": null,
   "metadata": {},
   "outputs": [],
   "source": []
  },
  {
   "cell_type": "code",
   "execution_count": null,
   "metadata": {},
   "outputs": [],
   "source": [
    "viz.plot_lisa(gdf)"
   ]
  },
  {
   "cell_type": "code",
   "execution_count": null,
   "metadata": {},
   "outputs": [],
   "source": [
    "from pysal.explore.esda.moran import Moran_Local\n"
   ]
  },
  {
   "cell_type": "code",
   "execution_count": null,
   "metadata": {},
   "outputs": [],
   "source": [
    "Moran_Local?"
   ]
  },
  {
   "cell_type": "code",
   "execution_count": null,
   "metadata": {},
   "outputs": [],
   "source": []
  },
  {
   "cell_type": "code",
   "execution_count": null,
   "metadata": {},
   "outputs": [],
   "source": []
  }
 ],
 "metadata": {
  "kernelspec": {
   "display_name": "Python [conda env:udtk] *",
   "language": "python",
   "name": "conda-env-udtk-py"
  },
  "language_info": {
   "codemirror_mode": {
    "name": "ipython",
    "version": 3
   },
   "file_extension": ".py",
   "mimetype": "text/x-python",
   "name": "python",
   "nbconvert_exporter": "python",
   "pygments_lexer": "ipython3",
   "version": "3.6.7"
  }
 },
 "nbformat": 4,
 "nbformat_minor": 2
}
